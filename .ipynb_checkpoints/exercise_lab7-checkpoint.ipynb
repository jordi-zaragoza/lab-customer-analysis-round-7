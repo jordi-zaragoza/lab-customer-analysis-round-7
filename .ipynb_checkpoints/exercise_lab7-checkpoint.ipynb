{
 "cells": [
  {
   "cell_type": "code",
   "execution_count": 1,
   "id": "separated-professional",
   "metadata": {},
   "outputs": [],
   "source": [
    "# Try to improve the linear regression model."
   ]
  },
  {
   "cell_type": "code",
   "execution_count": 19,
   "id": "organizational-hughes",
   "metadata": {},
   "outputs": [],
   "source": [
    "import pandas as pd \n",
    "import numpy as np\n",
    "import matplotlib.pyplot as plt\n",
    "import seaborn as sns\n",
    "from sklearn.linear_model import LinearRegression\n",
    "from sklearn.model_selection import train_test_split\n",
    "from sklearn.metrics import r2_score,mean_absolute_error,mean_squared_error\n",
    "from sklearn.preprocessing import OneHotEncoder"
   ]
  },
  {
   "cell_type": "code",
   "execution_count": 20,
   "id": "electric-theta",
   "metadata": {},
   "outputs": [],
   "source": [
    "# We first define the function that we will use later on:\n",
    "def LinearRegressionPerformance(X_tot,y):\n",
    "    X_train, X_test, y_train, y_test = train_test_split(X_tot, y, test_size=0.33, random_state=1)\n",
    "    reg = LinearRegression().fit(X_train, y_train)\n",
    "    y_pred = reg.predict(X_test)\n",
    "    y_true = y_test\n",
    "    print(\"The R2 is: \",r2_score(y_true, y_pred))\n",
    "    print(\"The MSE is: \",mean_squared_error(y_true, y_pred, squared=True))\n",
    "    print(\"The RMSE is: \",mean_squared_error(y_true, y_pred, squared=False))\n",
    "    print(\"The MAE is: \",mean_absolute_error(y_true, y_pred))"
   ]
  },
  {
   "cell_type": "code",
   "execution_count": 21,
   "id": "growing-circular",
   "metadata": {},
   "outputs": [],
   "source": [
    "marketing_df = pd.read_csv('files_for_lab/csv_files/marketing_customer_analysis.csv')\n",
    "m_df = marketing_df.copy()\n",
    "m_df = m_df.rename(columns={'Total Claim Amount': 'claim'})\n",
    "numerical = m_df.select_dtypes(include=[np.number])\n",
    "categorical = m_df.select_dtypes(include=[object])"
   ]
  },
  {
   "cell_type": "code",
   "execution_count": 22,
   "id": "celtic-requirement",
   "metadata": {},
   "outputs": [],
   "source": [
    "##################################\n",
    "# ADDING LOG TRANSFORMATION TO Y #\n",
    "##################################"
   ]
  },
  {
   "cell_type": "code",
   "execution_count": 23,
   "id": "indonesian-period",
   "metadata": {},
   "outputs": [
    {
     "data": {
      "text/plain": [
       "<AxesSubplot:>"
      ]
     },
     "execution_count": 23,
     "metadata": {},
     "output_type": "execute_result"
    },
    {
     "data": {
      "image/png": "[encoded data removed]",
      "text/plain": [
       "<Figure size 432x288 with 2 Axes>"
      ]
     },
     "metadata": {
      "needs_background": "light"
     },
     "output_type": "display_data"
    }
   ],
   "source": [
    "# As we can see in this graph, the data is positivele skewed\n",
    "#plt.figure(figsize=(15,5))\n",
    "fig, ax = plt.subplots(2,1)\n",
    "sns.histplot(x='claim', data = numerical, bins = 100, ax = ax[0])\n",
    "sns.boxplot(data=numerical.claim, orient=\"h\", palette=\"Set2\", ax = ax[1])"
   ]
  },
  {
   "cell_type": "code",
   "execution_count": 24,
   "id": "perceived-defensive",
   "metadata": {},
   "outputs": [],
   "source": [
    "# Therefore, we have to transform the y value\n",
    "claim_log = np.log(numerical.claim)\n",
    "numerical['claim_log'] = claim_log"
   ]
  },
  {
   "cell_type": "code",
   "execution_count": 25,
   "id": "resident-cruise",
   "metadata": {},
   "outputs": [
    {
     "data": {
      "text/plain": [
       "<AxesSubplot:>"
      ]
     },
     "execution_count": 25,
     "metadata": {},
     "output_type": "execute_result"
    },
    {
     "data": {
      "image/png": "[encoded data removed]",
      "text/plain": [
       "<Figure size 432x288 with 2 Axes>"
      ]
     },
     "metadata": {
      "needs_background": "light"
     },
     "output_type": "display_data"
    }
   ],
   "source": [
    "# Now we can see that the data looks more 'normalized'\n",
    "# plt.figure(figsize=(15,5))\n",
    "fig, ax = plt.subplots(2,1)\n",
    "sns.histplot(x='claim_log', data = numerical, bins = 100, ax = ax[0])\n",
    "sns.boxplot(data=numerical.claim_log, orient=\"h\", palette=\"Set2\", ax = ax[1])"
   ]
  },
  {
   "cell_type": "code",
   "execution_count": 26,
   "id": "upset-verification",
   "metadata": {},
   "outputs": [],
   "source": [
    "# ------ We will use this data now in our model < ----------------------------------------\n",
    "# 1. Processing Data ---------\n",
    "#     · X-y split. (done)\n",
    "y = numerical[['claim_log']]\n",
    "X = numerical.drop(['claim_log','claim'],axis=1)\n",
    "\n",
    "#     · Normalize (numerical). (done)\n",
    "from sklearn.preprocessing import Normalizer\n",
    "transformer = Normalizer().fit(X)\n",
    "normalized_X = transformer.transform(X)\n",
    "X_trans = pd.DataFrame(normalized_X, columns = X.columns)\n",
    "\n",
    "# And we concatenate numerical with categorical: < --------------------------------------\n",
    "X_tot = X_trans"
   ]
  },
  {
   "cell_type": "code",
   "execution_count": 27,
   "id": "numeric-carter",
   "metadata": {},
   "outputs": [
    {
     "name": "stdout",
     "output_type": "stream",
     "text": [
      "The R2 is:  0.15530848602032177\n",
      "The MSE is:  0.7182464268209693\n",
      "The RMSE is:  0.847494204594326\n",
      "The MAE is:  0.569656059033565\n"
     ]
    }
   ],
   "source": [
    "LinearRegressionPerformance(X_tot,y)"
   ]
  },
  {
   "cell_type": "code",
   "execution_count": 28,
   "id": "massive-criticism",
   "metadata": {},
   "outputs": [],
   "source": [
    "# As we can see the predicted value gets better performance after the log transformation on Y"
   ]
  },
  {
   "cell_type": "code",
   "execution_count": 29,
   "id": "center-offering",
   "metadata": {},
   "outputs": [],
   "source": [
    "###############################\n",
    "# ADDING CATEGORICAL FEATURES #\n",
    "###############################"
   ]
  },
  {
   "cell_type": "code",
   "execution_count": 54,
   "id": "frozen-trauma",
   "metadata": {},
   "outputs": [],
   "source": [
    "#     · Concat DataFrames\n",
    "# We define the function that we will use\n",
    "def oneHotColumn(col_transform):\n",
    "    enc = OneHotEncoder(handle_unknown='ignore')\n",
    "    enc.fit(col_transform)\n",
    "    onehotlabels = enc.transform(col_transform).toarray()\n",
    "    return pd.DataFrame(onehotlabels,columns = enc.categories_)\n",
    "\n",
    "# We loop the function in order to concatenate all the frames\n",
    "cat2 = categorical.copy()\n",
    "cat2.drop('Customer', axis = 1, inplace = True)\n",
    "concat_categorical = pd.DataFrame()# categorical[['Customer']]\n",
    "for col in cat2.columns:\n",
    "      df_from_column = oneHotColumn(cat2[[col]])\n",
    "      concat_categorical = pd.concat([concat_categorical,df_from_column], axis=1)#\n",
    "    \n",
    "    \n",
    "# I add this for rows in order to get rid of the warning , it returns the properly column string names instead of tupples\n",
    "# ------- warning code -----------------------\n",
    "new_columns = []\n",
    "for column in concat_categorical.columns:\n",
    "    new_columns.append(column[0])\n",
    "concat_categorical.columns = new_columns\n",
    "# ------- warning code -----------------------\n",
    "    \n",
    "# And we concatenate numerical with categorical: < --------------------------------------\n",
    "X_tot = pd.concat([concat_categorical,X_trans], axis=1) "
   ]
  },
  {
   "cell_type": "code",
   "execution_count": 55,
   "id": "endangered-picking",
   "metadata": {},
   "outputs": [
    {
     "name": "stdout",
     "output_type": "stream",
     "text": [
      "The R2 is:  0.7254256095299587\n",
      "The MSE is:  0.2334723050815417\n",
      "The RMSE is:  0.4831897195528292\n",
      "The MAE is:  0.28282618742212395\n"
     ]
    }
   ],
   "source": [
    "LinearRegressionPerformance(X_tot,y)"
   ]
  },
  {
   "cell_type": "code",
   "execution_count": 44,
   "id": "delayed-printer",
   "metadata": {},
   "outputs": [],
   "source": [
    "concat_categorical = pd.DataFrame()"
   ]
  },
  {
   "cell_type": "code",
   "execution_count": 45,
   "id": "absolute-newspaper",
   "metadata": {},
   "outputs": [],
   "source": [
    "# We also improve using categorical features"
   ]
  },
  {
   "cell_type": "code",
   "execution_count": 46,
   "id": "becoming-rugby",
   "metadata": {},
   "outputs": [],
   "source": [
    "##########################################\n",
    "# COMPARING 3 TYPES OF X TRANSFORMATIONS #\n",
    "##########################################"
   ]
  },
  {
   "cell_type": "code",
   "execution_count": 47,
   "id": "prerequisite-adoption",
   "metadata": {},
   "outputs": [],
   "source": [
    "# Now we will check what X transformation works better ---------------------------"
   ]
  },
  {
   "cell_type": "code",
   "execution_count": 48,
   "id": "blind-breed",
   "metadata": {},
   "outputs": [
    {
     "name": "stdout",
     "output_type": "stream",
     "text": [
      "The R2 is:  0.23895711159963184\n",
      "The MSE is:  0.6471194823252655\n",
      "The RMSE is:  0.8044373700452171\n",
      "The MAE is:  0.5142193118977813\n"
     ]
    }
   ],
   "source": [
    "# Min max scaler: ------------------------------------------------------------------\n",
    "from sklearn.preprocessing import MinMaxScaler\n",
    "MinMaxtransformer = MinMaxScaler().fit(X)\n",
    "minmax_X = MinMaxtransformer.transform(X)\n",
    "X_minmax = pd.DataFrame(minmax_X,columns=X.columns)\n",
    "\n",
    "X_tot = pd.concat([concat_categorical,X_minmax], axis=1) \n",
    "\n",
    "LinearRegressionPerformance(X_tot,y)"
   ]
  },
  {
   "cell_type": "code",
   "execution_count": 49,
   "id": "educational-flood",
   "metadata": {},
   "outputs": [
    {
     "name": "stdout",
     "output_type": "stream",
     "text": [
      "The R2 is:  0.23895711159963184\n",
      "The MSE is:  0.6471194823252655\n",
      "The RMSE is:  0.8044373700452171\n",
      "The MAE is:  0.5142193118977813\n"
     ]
    }
   ],
   "source": [
    "# Standard scaler: ------------------------------------------------------------------\n",
    "from sklearn.preprocessing import StandardScaler\n",
    "Standardtransformer = StandardScaler().fit(X)\n",
    "standard_X = Standardtransformer.transform(X)\n",
    "X_stand = pd.DataFrame(standard_X,columns=X.columns)\n",
    "\n",
    "X_tot = pd.concat([concat_categorical,X_stand], axis=1) \n",
    "\n",
    "LinearRegressionPerformance(X_tot,y)"
   ]
  },
  {
   "cell_type": "code",
   "execution_count": 50,
   "id": "closed-tattoo",
   "metadata": {},
   "outputs": [
    {
     "name": "stdout",
     "output_type": "stream",
     "text": [
      "The R2 is:  0.15530848602032177\n",
      "The MSE is:  0.7182464268209693\n",
      "The RMSE is:  0.847494204594326\n",
      "The MAE is:  0.569656059033565\n"
     ]
    }
   ],
   "source": [
    "# Normalizer ------------------------------------------------------------------\n",
    "from sklearn.preprocessing import Normalizer\n",
    "transformer = Normalizer().fit(X)\n",
    "normalized_X = transformer.transform(X)\n",
    "X_norm = pd.DataFrame(normalized_X, columns = X.columns)\n",
    "\n",
    "X_tot = pd.concat([concat_categorical,X_norm], axis=1) \n",
    "\n",
    "LinearRegressionPerformance(X_tot,y)"
   ]
  },
  {
   "cell_type": "code",
   "execution_count": 51,
   "id": "comparative-cigarette",
   "metadata": {
    "scrolled": true
   },
   "outputs": [],
   "source": [
    "# We can see they all 3 get more or less the same performance but as we saw in class:\n",
    "# Normalizing - improves the performance of the linear model\n",
    "# Standardizing - shapes de distribution to a Standard Distribution\n",
    "# Power Transformer - Standardizer but more powerful, adapts data shaping its distribution even closer to a Standard Distribution (edited) "
   ]
  }
 ],
 "metadata": {
  "kernelspec": {
   "display_name": "Python 3 (ipykernel)",
   "language": "python",
   "name": "python3"
  },
  "language_info": {
   "codemirror_mode": {
    "name": "ipython",
    "version": 3
   },
   "file_extension": ".py",
   "mimetype": "text/x-python",
   "name": "python",
   "nbconvert_exporter": "python",
   "pygments_lexer": "ipython3",
   "version": "3.9.5"
  }
 },
 "nbformat": 4,
 "nbformat_minor": 5
}
